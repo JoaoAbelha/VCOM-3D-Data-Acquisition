{
 "metadata": {
  "language_info": {
   "codemirror_mode": {
    "name": "ipython",
    "version": 3
   },
   "file_extension": ".py",
   "mimetype": "text/x-python",
   "name": "python",
   "nbconvert_exporter": "python",
   "pygments_lexer": "ipython3",
   "version": "3.8.5"
  },
  "orig_nbformat": 2,
  "kernelspec": {
   "name": "python385jvsc74a57bd02968c4eb148e899c06e486059ecf0f21e405bc3ab554c488441ab25675577130",
   "display_name": "Python 3.8.5 32-bit"
  }
 },
 "nbformat": 4,
 "nbformat_minor": 2,
 "cells": [
  {
   "cell_type": "code",
   "execution_count": 1,
   "metadata": {},
   "outputs": [],
   "source": [
    "import cv2\n",
    "import numpy as np\n",
    "import os\n",
    "from matplotlib import pyplot as plt\n",
    "import math"
   ]
  },
  {
   "cell_type": "code",
   "execution_count": 2,
   "metadata": {},
   "outputs": [],
   "source": [
    "frame_0 = cv2.imread('../imgs/objs2/IMG_20210414_122947.jpg',0)\n",
    "frame_n = cv2.imread('../imgs/objs2/IMG_20210414_123012.jpg',0)"
   ]
  },
  {
   "cell_type": "code",
   "execution_count": 3,
   "metadata": {},
   "outputs": [],
   "source": [
    "absdiff = cv2.absdiff(frame_0,frame_n)\n",
    "ret, absdiff_thresh = cv2.threshold(absdiff,0,255,cv2.THRESH_BINARY + cv2.THRESH_OTSU)"
   ]
  },
  {
   "cell_type": "code",
   "execution_count": 4,
   "metadata": {},
   "outputs": [],
   "source": [
    "ret,thresh_0 = cv2.threshold(frame_0,150,255,cv2.THRESH_BINARY_INV)\n",
    "ret,thresh_n = cv2.threshold(frame_n,150,255,cv2.THRESH_BINARY_INV)"
   ]
  },
  {
   "cell_type": "code",
   "execution_count": 5,
   "metadata": {},
   "outputs": [],
   "source": [
    "thresh_absdiff = cv2.absdiff(thresh_0,thresh_n)"
   ]
  },
  {
   "cell_type": "code",
   "execution_count": 6,
   "metadata": {},
   "outputs": [],
   "source": [
    "shadow = cv2.bitwise_and(absdiff_thresh , thresh_absdiff)"
   ]
  },
  {
   "cell_type": "code",
   "execution_count": 7,
   "metadata": {},
   "outputs": [],
   "source": [
    "result = cv2.morphologyEx(shadow, cv2.MORPH_ERODE, (5, 5))\r\n",
    "result = cv2.morphologyEx(result, cv2.MORPH_ERODE, (5, 5))\r\n",
    "result = cv2.morphologyEx(result, cv2.MORPH_OPEN, (5, 5))"
   ]
  },
  {
   "cell_type": "code",
   "execution_count": 8,
   "metadata": {},
   "outputs": [
    {
     "output_type": "display_data",
     "data": {
      "text/plain": "<Figure size 432x288 with 1 Axes>",
      "image/svg+xml": "<?xml version=\"1.0\" encoding=\"utf-8\" standalone=\"no\"?>\r\n<!DOCTYPE svg PUBLIC \"-//W3C//DTD SVG 1.1//EN\"\r\n  \"http://www.w3.org/Graphics/SVG/1.1/DTD/svg11.dtd\">\r\n<!-- Created with matplotlib (https://matplotlib.org/) -->\r\n<svg height=\"221.343125pt\" version=\"1.1\" viewBox=\"0 0 352.7 221.343125\" width=\"352.7pt\" xmlns=\"http://www.w3.org/2000/svg\" xmlns:xlink=\"http://www.w3.org/1999/xlink\">\r\n <metadata>\r\n  <rdf:RDF xmlns:cc=\"http://creativecommons.org/ns#\" xmlns:dc=\"http://purl.org/dc/elements/1.1/\" xmlns:rdf=\"http://www.w3.org/1999/02/22-rdf-syntax-ns#\">\r\n   <cc:Work>\r\n    <dc:type rdf:resource=\"http://purl.org/dc/dcmitype/StillImage\"/>\r\n    <dc:date>2021-04-21T18:30:13.351722</dc:date>\r\n    <dc:format>image/svg+xml</dc:format>\r\n    <dc:creator>\r\n     <cc:Agent>\r\n      <dc:title>Matplotlib v3.3.4, https://matplotlib.org/</dc:title>\r\n     </cc:Agent>\r\n    </dc:creator>\r\n   </cc:Work>\r\n  </rdf:RDF>\r\n </metadata>\r\n <defs>\r\n  <style type=\"text/css\">*{stroke-linecap:butt;stroke-linejoin:round;}</style>\r\n </defs>\r\n <g id=\"figure_1\">\r\n  <g id=\"patch_1\">\r\n   <path d=\"M 0 221.343125 \r\nL 352.7 221.343125 \r\nL 352.7 0 \r\nL 0 0 \r\nz\r\n\" style=\"fill:none;\"/>\r\n  </g>\r\n  <g id=\"axes_1\">\r\n   <g id=\"patch_2\">\r\n    <path d=\"M 10.7 210.643125 \r\nL 345.5 210.643125 \r\nL 345.5 22.318125 \r\nL 10.7 22.318125 \r\nz\r\n\" style=\"fill:#ffffff;\"/>\r\n   </g>\r\n   <g clip-path=\"url(#pf3ddc72bf5)\">\r\n    <image height=\"189\" id=\"imagefe47aaa983\" transform=\"scale(1 -1)translate(0 -189)\" width=\"335\" x=\"10.7\" xlink:href=\"data:image/png;base64,\r\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\" y=\"-21.643125\"/>\r\n   </g>\r\n   <g id=\"matplotlib.axis_1\"/>\r\n   <g id=\"matplotlib.axis_2\"/>\r\n   <g id=\"patch_3\">\r\n    <path d=\"M 10.7 210.643125 \r\nL 10.7 22.318125 \r\n\" style=\"fill:none;stroke:#000000;stroke-linecap:square;stroke-linejoin:miter;stroke-width:0.8;\"/>\r\n   </g>\r\n   <g id=\"patch_4\">\r\n    <path d=\"M 345.5 210.643125 \r\nL 345.5 22.318125 \r\n\" style=\"fill:none;stroke:#000000;stroke-linecap:square;stroke-linejoin:miter;stroke-width:0.8;\"/>\r\n   </g>\r\n   <g id=\"patch_5\">\r\n    <path d=\"M 10.7 210.643125 \r\nL 345.5 210.643125 \r\n\" style=\"fill:none;stroke:#000000;stroke-linecap:square;stroke-linejoin:miter;stroke-width:0.8;\"/>\r\n   </g>\r\n   <g id=\"patch_6\">\r\n    <path d=\"M 10.7 22.318125 \r\nL 345.5 22.318125 \r\n\" style=\"fill:none;stroke:#000000;stroke-linecap:square;stroke-linejoin:miter;stroke-width:0.8;\"/>\r\n   </g>\r\n   <g id=\"text_1\">\r\n    <!-- diff_thresh -->\r\n    <g transform=\"translate(146.293438 16.318125)scale(0.12 -0.12)\">\r\n     <defs>\r\n      <path d=\"M 45.40625 46.390625 \r\nL 45.40625 75.984375 \r\nL 54.390625 75.984375 \r\nL 54.390625 0 \r\nL 45.40625 0 \r\nL 45.40625 8.203125 \r\nQ 42.578125 3.328125 38.25 0.953125 \r\nQ 33.9375 -1.421875 27.875 -1.421875 \r\nQ 17.96875 -1.421875 11.734375 6.484375 \r\nQ 5.515625 14.40625 5.515625 27.296875 \r\nQ 5.515625 40.1875 11.734375 48.09375 \r\nQ 17.96875 56 27.875 56 \r\nQ 33.9375 56 38.25 53.625 \r\nQ 42.578125 51.265625 45.40625 46.390625 \r\nz\r\nM 14.796875 27.296875 \r\nQ 14.796875 17.390625 18.875 11.75 \r\nQ 22.953125 6.109375 30.078125 6.109375 \r\nQ 37.203125 6.109375 41.296875 11.75 \r\nQ 45.40625 17.390625 45.40625 27.296875 \r\nQ 45.40625 37.203125 41.296875 42.84375 \r\nQ 37.203125 48.484375 30.078125 48.484375 \r\nQ 22.953125 48.484375 18.875 42.84375 \r\nQ 14.796875 37.203125 14.796875 27.296875 \r\nz\r\n\" id=\"DejaVuSans-100\"/>\r\n      <path d=\"M 9.421875 54.6875 \r\nL 18.40625 54.6875 \r\nL 18.40625 0 \r\nL 9.421875 0 \r\nz\r\nM 9.421875 75.984375 \r\nL 18.40625 75.984375 \r\nL 18.40625 64.59375 \r\nL 9.421875 64.59375 \r\nz\r\n\" id=\"DejaVuSans-105\"/>\r\n      <path d=\"M 37.109375 75.984375 \r\nL 37.109375 68.5 \r\nL 28.515625 68.5 \r\nQ 23.6875 68.5 21.796875 66.546875 \r\nQ 19.921875 64.59375 19.921875 59.515625 \r\nL 19.921875 54.6875 \r\nL 34.71875 54.6875 \r\nL 34.71875 47.703125 \r\nL 19.921875 47.703125 \r\nL 19.921875 0 \r\nL 10.890625 0 \r\nL 10.890625 47.703125 \r\nL 2.296875 47.703125 \r\nL 2.296875 54.6875 \r\nL 10.890625 54.6875 \r\nL 10.890625 58.5 \r\nQ 10.890625 67.625 15.140625 71.796875 \r\nQ 19.390625 75.984375 28.609375 75.984375 \r\nz\r\n\" id=\"DejaVuSans-102\"/>\r\n      <path d=\"M 50.984375 -16.609375 \r\nL 50.984375 -23.578125 \r\nL -0.984375 -23.578125 \r\nL -0.984375 -16.609375 \r\nz\r\n\" id=\"DejaVuSans-95\"/>\r\n      <path d=\"M 18.3125 70.21875 \r\nL 18.3125 54.6875 \r\nL 36.8125 54.6875 \r\nL 36.8125 47.703125 \r\nL 18.3125 47.703125 \r\nL 18.3125 18.015625 \r\nQ 18.3125 11.328125 20.140625 9.421875 \r\nQ 21.96875 7.515625 27.59375 7.515625 \r\nL 36.8125 7.515625 \r\nL 36.8125 0 \r\nL 27.59375 0 \r\nQ 17.1875 0 13.234375 3.875 \r\nQ 9.28125 7.765625 9.28125 18.015625 \r\nL 9.28125 47.703125 \r\nL 2.6875 47.703125 \r\nL 2.6875 54.6875 \r\nL 9.28125 54.6875 \r\nL 9.28125 70.21875 \r\nz\r\n\" id=\"DejaVuSans-116\"/>\r\n      <path d=\"M 54.890625 33.015625 \r\nL 54.890625 0 \r\nL 45.90625 0 \r\nL 45.90625 32.71875 \r\nQ 45.90625 40.484375 42.875 44.328125 \r\nQ 39.84375 48.1875 33.796875 48.1875 \r\nQ 26.515625 48.1875 22.3125 43.546875 \r\nQ 18.109375 38.921875 18.109375 30.90625 \r\nL 18.109375 0 \r\nL 9.078125 0 \r\nL 9.078125 75.984375 \r\nL 18.109375 75.984375 \r\nL 18.109375 46.1875 \r\nQ 21.34375 51.125 25.703125 53.5625 \r\nQ 30.078125 56 35.796875 56 \r\nQ 45.21875 56 50.046875 50.171875 \r\nQ 54.890625 44.34375 54.890625 33.015625 \r\nz\r\n\" id=\"DejaVuSans-104\"/>\r\n      <path d=\"M 41.109375 46.296875 \r\nQ 39.59375 47.171875 37.8125 47.578125 \r\nQ 36.03125 48 33.890625 48 \r\nQ 26.265625 48 22.1875 43.046875 \r\nQ 18.109375 38.09375 18.109375 28.8125 \r\nL 18.109375 0 \r\nL 9.078125 0 \r\nL 9.078125 54.6875 \r\nL 18.109375 54.6875 \r\nL 18.109375 46.1875 \r\nQ 20.953125 51.171875 25.484375 53.578125 \r\nQ 30.03125 56 36.53125 56 \r\nQ 37.453125 56 38.578125 55.875 \r\nQ 39.703125 55.765625 41.0625 55.515625 \r\nz\r\n\" id=\"DejaVuSans-114\"/>\r\n      <path d=\"M 56.203125 29.59375 \r\nL 56.203125 25.203125 \r\nL 14.890625 25.203125 \r\nQ 15.484375 15.921875 20.484375 11.0625 \r\nQ 25.484375 6.203125 34.421875 6.203125 \r\nQ 39.59375 6.203125 44.453125 7.46875 \r\nQ 49.3125 8.734375 54.109375 11.28125 \r\nL 54.109375 2.78125 \r\nQ 49.265625 0.734375 44.1875 -0.34375 \r\nQ 39.109375 -1.421875 33.890625 -1.421875 \r\nQ 20.796875 -1.421875 13.15625 6.1875 \r\nQ 5.515625 13.8125 5.515625 26.8125 \r\nQ 5.515625 40.234375 12.765625 48.109375 \r\nQ 20.015625 56 32.328125 56 \r\nQ 43.359375 56 49.78125 48.890625 \r\nQ 56.203125 41.796875 56.203125 29.59375 \r\nz\r\nM 47.21875 32.234375 \r\nQ 47.125 39.59375 43.09375 43.984375 \r\nQ 39.0625 48.390625 32.421875 48.390625 \r\nQ 24.90625 48.390625 20.390625 44.140625 \r\nQ 15.875 39.890625 15.1875 32.171875 \r\nz\r\n\" id=\"DejaVuSans-101\"/>\r\n      <path d=\"M 44.28125 53.078125 \r\nL 44.28125 44.578125 \r\nQ 40.484375 46.53125 36.375 47.5 \r\nQ 32.28125 48.484375 27.875 48.484375 \r\nQ 21.1875 48.484375 17.84375 46.4375 \r\nQ 14.5 44.390625 14.5 40.28125 \r\nQ 14.5 37.15625 16.890625 35.375 \r\nQ 19.28125 33.59375 26.515625 31.984375 \r\nL 29.59375 31.296875 \r\nQ 39.15625 29.25 43.1875 25.515625 \r\nQ 47.21875 21.78125 47.21875 15.09375 \r\nQ 47.21875 7.46875 41.1875 3.015625 \r\nQ 35.15625 -1.421875 24.609375 -1.421875 \r\nQ 20.21875 -1.421875 15.453125 -0.5625 \r\nQ 10.6875 0.296875 5.421875 2 \r\nL 5.421875 11.28125 \r\nQ 10.40625 8.6875 15.234375 7.390625 \r\nQ 20.0625 6.109375 24.8125 6.109375 \r\nQ 31.15625 6.109375 34.5625 8.28125 \r\nQ 37.984375 10.453125 37.984375 14.40625 \r\nQ 37.984375 18.0625 35.515625 20.015625 \r\nQ 33.0625 21.96875 24.703125 23.78125 \r\nL 21.578125 24.515625 \r\nQ 13.234375 26.265625 9.515625 29.90625 \r\nQ 5.8125 33.546875 5.8125 39.890625 \r\nQ 5.8125 47.609375 11.28125 51.796875 \r\nQ 16.75 56 26.8125 56 \r\nQ 31.78125 56 36.171875 55.265625 \r\nQ 40.578125 54.546875 44.28125 53.078125 \r\nz\r\n\" id=\"DejaVuSans-115\"/>\r\n     </defs>\r\n     <use xlink:href=\"#DejaVuSans-100\"/>\r\n     <use x=\"63.476562\" xlink:href=\"#DejaVuSans-105\"/>\r\n     <use x=\"91.259766\" xlink:href=\"#DejaVuSans-102\"/>\r\n     <use x=\"126.464844\" xlink:href=\"#DejaVuSans-102\"/>\r\n     <use x=\"161.669922\" xlink:href=\"#DejaVuSans-95\"/>\r\n     <use x=\"211.669922\" xlink:href=\"#DejaVuSans-116\"/>\r\n     <use x=\"250.878906\" xlink:href=\"#DejaVuSans-104\"/>\r\n     <use x=\"314.257812\" xlink:href=\"#DejaVuSans-114\"/>\r\n     <use x=\"353.121094\" xlink:href=\"#DejaVuSans-101\"/>\r\n     <use x=\"414.644531\" xlink:href=\"#DejaVuSans-115\"/>\r\n     <use x=\"466.744141\" xlink:href=\"#DejaVuSans-104\"/>\r\n    </g>\r\n   </g>\r\n  </g>\r\n </g>\r\n <defs>\r\n  <clipPath id=\"pf3ddc72bf5\">\r\n   <rect height=\"188.325\" width=\"334.8\" x=\"10.7\" y=\"22.318125\"/>\r\n  </clipPath>\r\n </defs>\r\n</svg>\r\n",
      "image/png": "[encoded data removed]"
     },
     "metadata": {}
    }
   ],
   "source": [
    "plt.imshow(result, cmap='gray', vmin=0)\n",
    "plt.title('diff_thresh'), plt.xticks([]), plt.yticks([])\n",
    "plt.show()"
   ]
  },
  {
   "cell_type": "code",
   "execution_count": null,
   "metadata": {},
   "outputs": [],
   "source": []
  }
 ]
}