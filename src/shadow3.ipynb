{
 "metadata": {
  "language_info": {
   "codemirror_mode": {
    "name": "ipython",
    "version": 3
   },
   "file_extension": ".py",
   "mimetype": "text/x-python",
   "name": "python",
   "nbconvert_exporter": "python",
   "pygments_lexer": "ipython3",
   "version": "3.8.5"
  },
  "orig_nbformat": 2,
  "kernelspec": {
   "name": "python3",
   "display_name": "Python 3.8.5 32-bit",
   "metadata": {
    "interpreter": {
     "hash": "2968c4eb148e899c06e486059ecf0f21e405bc3ab554c488441ab25675577130"
    }
   }
  }
 },
 "nbformat": 4,
 "nbformat_minor": 2,
 "cells": [
  {
   "cell_type": "code",
   "execution_count": 1,
   "metadata": {},
   "outputs": [],
   "source": [
    "import cv2\n",
    "import numpy as np\n",
    "import os\n",
    "from matplotlib import pyplot as plt\n",
    "import math"
   ]
  },
  {
   "cell_type": "code",
   "execution_count": 2,
   "metadata": {},
   "outputs": [],
   "source": [
    "frame_0 = cv2.imread('../imgs/charger_0.jpg',0)\n",
    "frame_n = cv2.imread('../imgs/charger_1.jpg',0)"
   ]
  },
  {
   "cell_type": "code",
   "execution_count": 3,
   "metadata": {},
   "outputs": [],
   "source": [
    "frame_0 = cv2.resize(frame_0,(400,300))\n",
    "frame_n = cv2.resize(frame_n,(400,300))"
   ]
  },
  {
   "cell_type": "code",
   "execution_count": 4,
   "metadata": {},
   "outputs": [],
   "source": [
    "absdiff = cv2.absdiff(frame_0,frame_n)\n",
    "ret, absdiff_thresh = cv2.threshold(absdiff,0,255,cv2.THRESH_BINARY + cv2.THRESH_OTSU)"
   ]
  },
  {
   "cell_type": "code",
   "execution_count": 5,
   "metadata": {},
   "outputs": [],
   "source": [
    "ret,thresh_0 = cv2.threshold(frame_0,150,255,cv2.THRESH_BINARY_INV)\n",
    "ret,thresh_n = cv2.threshold(frame_n,150,255,cv2.THRESH_BINARY_INV)"
   ]
  },
  {
   "cell_type": "code",
   "execution_count": 6,
   "metadata": {},
   "outputs": [],
   "source": [
    "thresh_absdiff = cv2.absdiff(thresh_0,thresh_n)"
   ]
  },
  {
   "cell_type": "code",
   "execution_count": 7,
   "metadata": {},
   "outputs": [],
   "source": [
    "shadow = cv2.bitwise_and(absdiff_thresh , thresh_absdiff)"
   ]
  },
  {
   "cell_type": "code",
   "execution_count": 8,
   "metadata": {},
   "outputs": [
    {
     "output_type": "display_data",
     "data": {
      "text/plain": "<Figure size 432x288 with 1 Axes>",
      "image/svg+xml": "<?xml version=\"1.0\" encoding=\"utf-8\" standalone=\"no\"?>\r\n<!DOCTYPE svg PUBLIC \"-//W3C//DTD SVG 1.1//EN\"\r\n  \"http://www.w3.org/Graphics/SVG/1.1/DTD/svg11.dtd\">\r\n<!-- Created with matplotlib (https://matplotlib.org/) -->\r\n<svg height=\"250.458125pt\" version=\"1.1\" viewBox=\"0 0 307.82 250.458125\" width=\"307.82pt\" xmlns=\"http://www.w3.org/2000/svg\" xmlns:xlink=\"http://www.w3.org/1999/xlink\">\r\n <metadata>\r\n  <rdf:RDF xmlns:cc=\"http://creativecommons.org/ns#\" xmlns:dc=\"http://purl.org/dc/elements/1.1/\" xmlns:rdf=\"http://www.w3.org/1999/02/22-rdf-syntax-ns#\">\r\n   <cc:Work>\r\n    <dc:type rdf:resource=\"http://purl.org/dc/dcmitype/StillImage\"/>\r\n    <dc:date>2021-03-30T15:04:48.252691</dc:date>\r\n    <dc:format>image/svg+xml</dc:format>\r\n    <dc:creator>\r\n     <cc:Agent>\r\n      <dc:title>Matplotlib v3.3.4, https://matplotlib.org/</dc:title>\r\n     </cc:Agent>\r\n    </dc:creator>\r\n   </cc:Work>\r\n  </rdf:RDF>\r\n </metadata>\r\n <defs>\r\n  <style type=\"text/css\">*{stroke-linecap:butt;stroke-linejoin:round;}</style>\r\n </defs>\r\n <g id=\"figure_1\">\r\n  <g id=\"patch_1\">\r\n   <path d=\"M 0 250.458125 \r\nL 307.82 250.458125 \r\nL 307.82 0 \r\nL 0 0 \r\nz\r\n\" style=\"fill:none;\"/>\r\n  </g>\r\n  <g id=\"axes_1\">\r\n   <g id=\"patch_2\">\r\n    <path d=\"M 10.7 239.758125 \r\nL 300.62 239.758125 \r\nL 300.62 22.318125 \r\nL 10.7 22.318125 \r\nz\r\n\" style=\"fill:#ffffff;\"/>\r\n   </g>\r\n   <g clip-path=\"url(#pc39177e173)\">\r\n    <image height=\"218\" id=\"image9ddc4d18f6\" transform=\"scale(1 -1)translate(0 -218)\" width=\"290\" x=\"10.7\" xlink:href=\"data:image/png;base64,\r\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\" y=\"-21.758125\"/>\r\n   </g>\r\n   <g id=\"matplotlib.axis_1\"/>\r\n   <g id=\"matplotlib.axis_2\"/>\r\n   <g id=\"patch_3\">\r\n    <path d=\"M 10.7 239.758125 \r\nL 10.7 22.318125 \r\n\" style=\"fill:none;stroke:#000000;stroke-linecap:square;stroke-linejoin:miter;stroke-width:0.8;\"/>\r\n   </g>\r\n   <g id=\"patch_4\">\r\n    <path d=\"M 300.62 239.758125 \r\nL 300.62 22.318125 \r\n\" style=\"fill:none;stroke:#000000;stroke-linecap:square;stroke-linejoin:miter;stroke-width:0.8;\"/>\r\n   </g>\r\n   <g id=\"patch_5\">\r\n    <path d=\"M 10.7 239.758125 \r\nL 300.62 239.758125 \r\n\" style=\"fill:none;stroke:#000000;stroke-linecap:square;stroke-linejoin:miter;stroke-width:0.8;\"/>\r\n   </g>\r\n   <g id=\"patch_6\">\r\n    <path d=\"M 10.7 22.318125 \r\nL 300.62 22.318125 \r\n\" style=\"fill:none;stroke:#000000;stroke-linecap:square;stroke-linejoin:miter;stroke-width:0.8;\"/>\r\n   </g>\r\n   <g id=\"text_1\">\r\n    <!-- diff_thresh -->\r\n    <g transform=\"translate(123.853438 16.318125)scale(0.12 -0.12)\">\r\n     <defs>\r\n      <path d=\"M 45.40625 46.390625 \r\nL 45.40625 75.984375 \r\nL 54.390625 75.984375 \r\nL 54.390625 0 \r\nL 45.40625 0 \r\nL 45.40625 8.203125 \r\nQ 42.578125 3.328125 38.25 0.953125 \r\nQ 33.9375 -1.421875 27.875 -1.421875 \r\nQ 17.96875 -1.421875 11.734375 6.484375 \r\nQ 5.515625 14.40625 5.515625 27.296875 \r\nQ 5.515625 40.1875 11.734375 48.09375 \r\nQ 17.96875 56 27.875 56 \r\nQ 33.9375 56 38.25 53.625 \r\nQ 42.578125 51.265625 45.40625 46.390625 \r\nz\r\nM 14.796875 27.296875 \r\nQ 14.796875 17.390625 18.875 11.75 \r\nQ 22.953125 6.109375 30.078125 6.109375 \r\nQ 37.203125 6.109375 41.296875 11.75 \r\nQ 45.40625 17.390625 45.40625 27.296875 \r\nQ 45.40625 37.203125 41.296875 42.84375 \r\nQ 37.203125 48.484375 30.078125 48.484375 \r\nQ 22.953125 48.484375 18.875 42.84375 \r\nQ 14.796875 37.203125 14.796875 27.296875 \r\nz\r\n\" id=\"DejaVuSans-100\"/>\r\n      <path d=\"M 9.421875 54.6875 \r\nL 18.40625 54.6875 \r\nL 18.40625 0 \r\nL 9.421875 0 \r\nz\r\nM 9.421875 75.984375 \r\nL 18.40625 75.984375 \r\nL 18.40625 64.59375 \r\nL 9.421875 64.59375 \r\nz\r\n\" id=\"DejaVuSans-105\"/>\r\n      <path d=\"M 37.109375 75.984375 \r\nL 37.109375 68.5 \r\nL 28.515625 68.5 \r\nQ 23.6875 68.5 21.796875 66.546875 \r\nQ 19.921875 64.59375 19.921875 59.515625 \r\nL 19.921875 54.6875 \r\nL 34.71875 54.6875 \r\nL 34.71875 47.703125 \r\nL 19.921875 47.703125 \r\nL 19.921875 0 \r\nL 10.890625 0 \r\nL 10.890625 47.703125 \r\nL 2.296875 47.703125 \r\nL 2.296875 54.6875 \r\nL 10.890625 54.6875 \r\nL 10.890625 58.5 \r\nQ 10.890625 67.625 15.140625 71.796875 \r\nQ 19.390625 75.984375 28.609375 75.984375 \r\nz\r\n\" id=\"DejaVuSans-102\"/>\r\n      <path d=\"M 50.984375 -16.609375 \r\nL 50.984375 -23.578125 \r\nL -0.984375 -23.578125 \r\nL -0.984375 -16.609375 \r\nz\r\n\" id=\"DejaVuSans-95\"/>\r\n      <path d=\"M 18.3125 70.21875 \r\nL 18.3125 54.6875 \r\nL 36.8125 54.6875 \r\nL 36.8125 47.703125 \r\nL 18.3125 47.703125 \r\nL 18.3125 18.015625 \r\nQ 18.3125 11.328125 20.140625 9.421875 \r\nQ 21.96875 7.515625 27.59375 7.515625 \r\nL 36.8125 7.515625 \r\nL 36.8125 0 \r\nL 27.59375 0 \r\nQ 17.1875 0 13.234375 3.875 \r\nQ 9.28125 7.765625 9.28125 18.015625 \r\nL 9.28125 47.703125 \r\nL 2.6875 47.703125 \r\nL 2.6875 54.6875 \r\nL 9.28125 54.6875 \r\nL 9.28125 70.21875 \r\nz\r\n\" id=\"DejaVuSans-116\"/>\r\n      <path d=\"M 54.890625 33.015625 \r\nL 54.890625 0 \r\nL 45.90625 0 \r\nL 45.90625 32.71875 \r\nQ 45.90625 40.484375 42.875 44.328125 \r\nQ 39.84375 48.1875 33.796875 48.1875 \r\nQ 26.515625 48.1875 22.3125 43.546875 \r\nQ 18.109375 38.921875 18.109375 30.90625 \r\nL 18.109375 0 \r\nL 9.078125 0 \r\nL 9.078125 75.984375 \r\nL 18.109375 75.984375 \r\nL 18.109375 46.1875 \r\nQ 21.34375 51.125 25.703125 53.5625 \r\nQ 30.078125 56 35.796875 56 \r\nQ 45.21875 56 50.046875 50.171875 \r\nQ 54.890625 44.34375 54.890625 33.015625 \r\nz\r\n\" id=\"DejaVuSans-104\"/>\r\n      <path d=\"M 41.109375 46.296875 \r\nQ 39.59375 47.171875 37.8125 47.578125 \r\nQ 36.03125 48 33.890625 48 \r\nQ 26.265625 48 22.1875 43.046875 \r\nQ 18.109375 38.09375 18.109375 28.8125 \r\nL 18.109375 0 \r\nL 9.078125 0 \r\nL 9.078125 54.6875 \r\nL 18.109375 54.6875 \r\nL 18.109375 46.1875 \r\nQ 20.953125 51.171875 25.484375 53.578125 \r\nQ 30.03125 56 36.53125 56 \r\nQ 37.453125 56 38.578125 55.875 \r\nQ 39.703125 55.765625 41.0625 55.515625 \r\nz\r\n\" id=\"DejaVuSans-114\"/>\r\n      <path d=\"M 56.203125 29.59375 \r\nL 56.203125 25.203125 \r\nL 14.890625 25.203125 \r\nQ 15.484375 15.921875 20.484375 11.0625 \r\nQ 25.484375 6.203125 34.421875 6.203125 \r\nQ 39.59375 6.203125 44.453125 7.46875 \r\nQ 49.3125 8.734375 54.109375 11.28125 \r\nL 54.109375 2.78125 \r\nQ 49.265625 0.734375 44.1875 -0.34375 \r\nQ 39.109375 -1.421875 33.890625 -1.421875 \r\nQ 20.796875 -1.421875 13.15625 6.1875 \r\nQ 5.515625 13.8125 5.515625 26.8125 \r\nQ 5.515625 40.234375 12.765625 48.109375 \r\nQ 20.015625 56 32.328125 56 \r\nQ 43.359375 56 49.78125 48.890625 \r\nQ 56.203125 41.796875 56.203125 29.59375 \r\nz\r\nM 47.21875 32.234375 \r\nQ 47.125 39.59375 43.09375 43.984375 \r\nQ 39.0625 48.390625 32.421875 48.390625 \r\nQ 24.90625 48.390625 20.390625 44.140625 \r\nQ 15.875 39.890625 15.1875 32.171875 \r\nz\r\n\" id=\"DejaVuSans-101\"/>\r\n      <path d=\"M 44.28125 53.078125 \r\nL 44.28125 44.578125 \r\nQ 40.484375 46.53125 36.375 47.5 \r\nQ 32.28125 48.484375 27.875 48.484375 \r\nQ 21.1875 48.484375 17.84375 46.4375 \r\nQ 14.5 44.390625 14.5 40.28125 \r\nQ 14.5 37.15625 16.890625 35.375 \r\nQ 19.28125 33.59375 26.515625 31.984375 \r\nL 29.59375 31.296875 \r\nQ 39.15625 29.25 43.1875 25.515625 \r\nQ 47.21875 21.78125 47.21875 15.09375 \r\nQ 47.21875 7.46875 41.1875 3.015625 \r\nQ 35.15625 -1.421875 24.609375 -1.421875 \r\nQ 20.21875 -1.421875 15.453125 -0.5625 \r\nQ 10.6875 0.296875 5.421875 2 \r\nL 5.421875 11.28125 \r\nQ 10.40625 8.6875 15.234375 7.390625 \r\nQ 20.0625 6.109375 24.8125 6.109375 \r\nQ 31.15625 6.109375 34.5625 8.28125 \r\nQ 37.984375 10.453125 37.984375 14.40625 \r\nQ 37.984375 18.0625 35.515625 20.015625 \r\nQ 33.0625 21.96875 24.703125 23.78125 \r\nL 21.578125 24.515625 \r\nQ 13.234375 26.265625 9.515625 29.90625 \r\nQ 5.8125 33.546875 5.8125 39.890625 \r\nQ 5.8125 47.609375 11.28125 51.796875 \r\nQ 16.75 56 26.8125 56 \r\nQ 31.78125 56 36.171875 55.265625 \r\nQ 40.578125 54.546875 44.28125 53.078125 \r\nz\r\n\" id=\"DejaVuSans-115\"/>\r\n     </defs>\r\n     <use xlink:href=\"#DejaVuSans-100\"/>\r\n     <use x=\"63.476562\" xlink:href=\"#DejaVuSans-105\"/>\r\n     <use x=\"91.259766\" xlink:href=\"#DejaVuSans-102\"/>\r\n     <use x=\"126.464844\" xlink:href=\"#DejaVuSans-102\"/>\r\n     <use x=\"161.669922\" xlink:href=\"#DejaVuSans-95\"/>\r\n     <use x=\"211.669922\" xlink:href=\"#DejaVuSans-116\"/>\r\n     <use x=\"250.878906\" xlink:href=\"#DejaVuSans-104\"/>\r\n     <use x=\"314.257812\" xlink:href=\"#DejaVuSans-114\"/>\r\n     <use x=\"353.121094\" xlink:href=\"#DejaVuSans-101\"/>\r\n     <use x=\"414.644531\" xlink:href=\"#DejaVuSans-115\"/>\r\n     <use x=\"466.744141\" xlink:href=\"#DejaVuSans-104\"/>\r\n    </g>\r\n   </g>\r\n  </g>\r\n </g>\r\n <defs>\r\n  <clipPath id=\"pc39177e173\">\r\n   <rect height=\"217.44\" width=\"289.92\" x=\"10.7\" y=\"22.318125\"/>\r\n  </clipPath>\r\n </defs>\r\n</svg>\r\n",
      "image/png": "[encoded data removed]"
     },
     "metadata": {}
    }
   ],
   "source": [
    "plt.imshow(shadow, cmap='gray', vmin=0)\n",
    "plt.title('diff_thresh'), plt.xticks([]), plt.yticks([])\n",
    "plt.show()"
   ]
  },
  {
   "cell_type": "code",
   "execution_count": null,
   "metadata": {},
   "outputs": [],
   "source": []
  }
 ]
}